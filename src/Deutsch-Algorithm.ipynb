{
 "cells": [
  {
   "cell_type": "markdown",
   "metadata": {},
   "source": [
    "# Deutsch Algorithm"
   ]
  },
  {
   "cell_type": "markdown",
   "metadata": {},
   "source": [
    "Deutsch's algorithm solves the parity problem (described above) for the special case that $ n=1 $. In the context of quantum computing this problem is sometimes referred to as Deutsch's problem, and we will follow that nomenclature in this lesson — but really it's just the simplest possible nontrivial version of the parity problem.\n",
    "\n",
    "To be precise, the input is represented by a function $f:\\Sigma \\rightarrow \\Sigma$ from one bit to one bit. As we observed in Lesson 1, there are 4 such functions:\n",
    "\n",
    "| $  a  $ | $f_1(a)$ |\n",
    "| :--- | ---: |\n",
    "| $0$ | $ 0 $ |\n",
    "| $1$ | $0$ |\n",
    "\n",
    "<br>\n",
    "\n",
    "| $  a  $ | $f_2(a)$ |\n",
    "| :--- | ---: |\n",
    "| $0$ | $ 0 $ |\n",
    "| $1$ | $1$ |\n",
    "\n",
    "<br>\n",
    "\n",
    "| $  a  $ | $f_3(a)$ |\n",
    "| :--- | ---: |\n",
    "| $0$ | $ 1 $ |\n",
    "| $1$ | $0$ |\n",
    "\n",
    "<br>\n",
    "\n",
    "| $  a  $ | $f_1(a)$ |\n",
    "| :--- | ---: |\n",
    "| $0$ | $ 1 $ |\n",
    "| $1$ | $1$ |"
   ]
  },
  {
   "cell_type": "markdown",
   "metadata": {},
   "source": [
    "The first and last of these functions are constant and the middle two are balanced, meaning that the two possible output values for the function occur the same number of times as we range over the inputs. Deutsch's problem is to determine which of these two categories the input function belongs to: constant or balanced.\n",
    "\n",
    "> <b>Deutsch's problem</b> <br>\n",
    "Input: a function $f:{0,1}→{0,1}$ <br>\n",
    "Output: $0$ if $f$ is constant, $1$ if $f$ is balanced\n",
    "\n",
    "If we view the input function $f$ in Deutsch's problem as representing random access to a string, we're thinking about a two-bit string: $f(0)f(1)$.\n",
    "\n",
    "| function | string |\n",
    "| :---: | :---: |\n",
    "| $f_1$ | $00$ |\n",
    "| $f_2$ | $01$ |\n",
    "| $f_3$ | $10$ |\n",
    "| $f_4$ | $11$ |\n",
    "\n",
    "\n",
    "When viewed in this way, Deutsch's problem is to compute the parity (or, equivalently, the exclusive-OR) of the two bits.\n",
    "\n",
    "Any classical query algorithm for this problem must query both bits, $f(0)$ and $f(1)$. If we learn that $f(1)=1$ for instance, the answer could still be $0$ (in case $f(0)=1$) or $1$ (in case $f(0)=0$ ). Every other case is similar: knowing just one of two bits doesn't provide any information at all about their parity. So, the Boolean circuit described in the previous section is the best we can do in terms of the number of queries required to solve this problem."
   ]
  },
  {
   "cell_type": "markdown",
   "metadata": {},
   "source": [
    "<h3>Quantum Circuit Description</h3>\n",
    "\n",
    "Deutsch's algorithm solves Deutsch's problem using a single query, therefore providing a quantifiable advantage of quantum over classical computations. This may be a modest advantage — one query as opposed to two — but we have to start somewhere. Scientific advancements often have seemingly humble origins.\n",
    "\n",
    "The initial state is ∣1⟩ ∣0⟩, and the two Hadamard operations of the circuit transform this state to\n",
    "\n",
    "$$ \\vert \\pi _1 \\rangle = \\vert - \\rangle \\vert + \\rangle = \\frac{1}{2}(\\vert 0 \\rangle - \\vert 1 \\rangle) \\vert 0 \\rangle + \\frac{1}{2} (\\vert 0 \\rangle - \\vert 1 \\rangle) \\vert 1 \\rangle. $$\n",
    "\n",
    "Notice here that we've only partially expanded out the expression of this state (by expanding $\\vert + \\rangle$ but not $\\vert - \\rangle$). There is nothing $\\textit{a priori}$ that tells us that we should express the state in this way, but it turns out to be convenient for the analysis.\n",
    "\n",
    "Next, the $U_f$ gate is performed. According to the definition of $U_f$ gate, the value of the function $f$ for the classical state of the top/rightmost qubit is XORed onto the bottom/leftmost qubit, which transform $\\vert \\pi_1 \\rangle$ into the state\n",
    "\n",
    "$$\n",
    "\\vert \\pi_2 \\rangle = \\frac{1}{2} (\\vert 0 ⊕ f(0) \\rangle) - \\vert 1 ⊕ f(0) \\rangle) \\vert 0 \\rangle \\frac{1}{2} (\\vert 0 ⊕ f(1) \\rangle - \\vert 1 ⊕ f(1) \\rangle) \\vert 1. $$\n",
    "\n",
    "We can simplify this expression by observing that the formula\n",
    "\n",
    "$$ \\vert 0 ⊕ a \\rangle - \\vert 1 ⊕ a \\rangle = (-1)^a (\\vert 0 \\rangle - \\vert 1 \\rangle)$$\n",
    "\n",
    "works for both possible values $a \\in \\Sigma. $ More specifically, the two cases are as follows:\n",
    "\n",
    "$$ \\vert 0 ⊕ 0 \\rangle - \\vert 1 ⊕ 0 \\rangle = \\vert 0 \\rangle - \\vert 1 \\rangle = (-1)^0 (\\vert 0 \\rangle - \\vert 1 \\rangle) $$\n",
    "\n",
    "$$ \\vert 0 ⊕ 1 \\rangle - \\vert 1 ⊕ 1 \\rangle = \\vert 1 \\rangle - \\vert 0 \\rangle = (-1)^1 (\\vert 0 \\rangle - \\vert 1 \\rangle) $$\n",
    "\n",
    "Thus we can alternatively express $\\vert \\pi_2 \\rangle $ like this:\n",
    "\n",
    "$$ \\vert \\pi_2 \\rangle = \\frac{1}{2} (-1)^{f(0)} (\\vert 0 \\rangle - \\vert 1 \\rangle) \\vert 0 \\rangle + \\frac{1}{2} (-1)^{f(1)}(\\vert 0 \\rangle - \\vert 1 \\rangle) \\vert 1 \\rangle $$\n",
    "\n",
    "$$ \\vert \\pi_2 \\rangle = \\vert - \\rangle (\\frac{(-1)^{f(0)}\\vert 0 \\rangle + (-1)^{f(1)} \\vert 1 \\rangle}{\\sqrt{2}}) .$$"
   ]
  },
  {
   "cell_type": "markdown",
   "metadata": {},
   "source": [
    "Very long Mathematical procedure and latex not implemented in the markdown file.\n",
    "\n",
    "To learn more, click [here](https://learning.quantum-computing.ibm.com/course/fundamentals-of-quantum-computing-algorithms/quantum-query-algorithms)."
   ]
  },
  {
   "cell_type": "code",
   "execution_count": 1,
   "metadata": {},
   "outputs": [],
   "source": [
    "from qiskit import QuantumCircuit"
   ]
  },
  {
   "cell_type": "code",
   "execution_count": 2,
   "metadata": {},
   "outputs": [],
   "source": [
    "def deutsch_function(case: int):\n",
    "    if case not in [1, 2, 3, 4]:\n",
    "        raise ValueError(\"'case' must be 1, 2, 3 or 4.\")\n",
    "    f = QuantumCircuit(2)\n",
    "    if case in [2, 3]:\n",
    "        f.cx(0, 1)\n",
    "    if case in [3,4]:\n",
    "        f.x(1)\n",
    "    return f"
   ]
  },
  {
   "cell_type": "markdown",
   "metadata": {},
   "source": [
    "Let's see how it goes."
   ]
  },
  {
   "cell_type": "code",
   "execution_count": 3,
   "metadata": {},
   "outputs": [
    {
     "data": {
      "image/png": "[encoded data removed]",
      "text/plain": [
       "<Figure size 287.294x200.667 with 1 Axes>"
      ]
     },
     "execution_count": 3,
     "metadata": {},
     "output_type": "execute_result"
    }
   ],
   "source": [
    "deutsch_function(3).draw(\"mpl\")"
   ]
  },
  {
   "cell_type": "markdown",
   "metadata": {},
   "source": [
    "Next we will create the actual quantum circuit for Deutsch's algorithm, substituting the query gate with a quantum circuit implementation given as an argument. Shortly we'll plug in one of the four circuits defined by the function `deutsch_function` we defined earlier. Barriers are included to show the visual separation between the query gate implementation and the rest of the circuit, but they aren't necessary and can safely be removed."
   ]
  },
  {
   "cell_type": "code",
   "execution_count": 4,
   "metadata": {},
   "outputs": [],
   "source": [
    "def compile_circuit(function: QuantumCircuit):\n",
    "    # compiles a circuit for use in Deutsch's algorithm\n",
    "    n = function.num_qubits-1\n",
    "    qc = QuantumCircuit(n+1, n)\n",
    "    \n",
    "    qc.x(n)\n",
    "    qc.h(range(n+1))\n",
    "    \n",
    "    qc.barrier()\n",
    "    qc.compose(function, inplace=True)\n",
    "    qc.barrier()\n",
    "    \n",
    "    qc.h(range(n))\n",
    "    qc.measure(range(n), range(n))\n",
    "    \n",
    "    return qc"
   ]
  },
  {
   "cell_type": "markdown",
   "metadata": {},
   "source": [
    "Again, we can see what the circuit looks like using `draw` method"
   ]
  },
  {
   "cell_type": "code",
   "execution_count": 5,
   "metadata": {},
   "outputs": [
    {
     "data": {
      "image/png": "[encoded data removed]",
      "text/plain": [
       "<Figure size 705.35x284.278 with 1 Axes>"
      ]
     },
     "execution_count": 5,
     "metadata": {},
     "output_type": "execute_result"
    }
   ],
   "source": [
    "compile_circuit(deutsch_function(4)).draw(\"mpl\")"
   ]
  },
  {
   "cell_type": "markdown",
   "metadata": {},
   "source": [
    "Finally, we will create a function that runs the circuit just defined one time and outputs the appropriate result: \"constant\" or \"balanced\"."
   ]
  },
  {
   "cell_type": "code",
   "execution_count": 6,
   "metadata": {},
   "outputs": [],
   "source": [
    "from qiskit_aer import AerSimulator\n",
    "\n",
    "def deutsch_algorithm(function: QuantumCircuit):\n",
    "    # Determine if deutsch function is constant or balanced\n",
    "    qc = compile_circuit(function)\n",
    "    \n",
    "    result = AerSimulator().run(qc, shots = 1, memory = True).result()\n",
    "    measurements = result.get_memory()\n",
    "    if measurements[0] == '0':\n",
    "        return \"constant\"\n",
    "    return \"balanced\""
   ]
  },
  {
   "cell_type": "code",
   "execution_count": 7,
   "metadata": {},
   "outputs": [
    {
     "data": {
      "image/png": "[encoded data removed]",
      "text/plain": [
       "<Figure size 287.294x200.667 with 1 Axes>"
      ]
     },
     "metadata": {},
     "output_type": "display_data"
    },
    {
     "data": {
      "text/plain": [
       "'balanced'"
      ]
     },
     "execution_count": 7,
     "metadata": {},
     "output_type": "execute_result"
    }
   ],
   "source": [
    "f = deutsch_function(3)\n",
    "display(f.draw(\"mpl\"))\n",
    "deutsch_algorithm(f)"
   ]
  }
 ],
 "metadata": {
  "kernelspec": {
   "display_name": "Quantum Computation",
   "language": "python",
   "name": "python3"
  },
  "language_info": {
   "codemirror_mode": {
    "name": "ipython",
    "version": 3
   },
   "file_extension": ".py",
   "mimetype": "text/x-python",
   "name": "python",
   "nbconvert_exporter": "python",
   "pygments_lexer": "ipython3",
   "version": "3.10.10"
  },
  "orig_nbformat": 4
 },
 "nbformat": 4,
 "nbformat_minor": 2
}
